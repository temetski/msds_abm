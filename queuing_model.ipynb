{
 "cells": [
  {
   "cell_type": "code",
   "execution_count": 1,
   "metadata": {},
   "outputs": [],
   "source": [
    "import random\n",
    "import simpy\n",
    "import logging\n",
    "import sys\n",
    "import scipy.stats as ss\n",
    "\n",
    "DEBUG = False\n",
    "if DEBUG:\n",
    "    logging.basicConfig(stream=sys.stdout, level=logging.DEBUG)\n",
    "\n",
    "RANDOM_SEED = 42\n",
    "NUM_CUSTOMERS = 500  # Total number of customers\n",
    "INTERVAL_CUSTOMERS = 5  # Generate new customers roughly every x seconds\n",
    "LINE_TOLERANCE = 6  # large number for now\n",
    "SIM_TIME = 3600\n",
    "AVG_SERVE_TIME = 60  # service time (in seconds) per customer\n",
    "\n",
    "# service parameters of the supermarket\n",
    "service_capacity = 1\n",
    "num_counters = 5\n",
    "\n",
    "# Earnings variables\n",
    "gross_margin_per_customer = 10  # dollars\n",
    "cost_per_counter = 300  # dollars\n",
    "\n",
    "\n",
    "def count_customers(counter):\n",
    "    \"\"\"Total number of customers in the counter\"\"\"\n",
    "    return max([0, len(counter.queue) + len(counter.users)])\n",
    "\n",
    "\n",
    "class Customer:\n",
    "    \"\"\"Customer arrives, is served and leaves.\"\"\"\n",
    "\n",
    "    def __init__(self, env, name, model=None, choose_method='shortest'):\n",
    "        \"\"\"Setup of customer, then spawn a process\"\"\"\n",
    "        self.arrive = env.now\n",
    "        self.env = env\n",
    "        self.name = name\n",
    "        self.choose_method = choose_method\n",
    "        self.model = model\n",
    "\n",
    "        logging.debug(f'{self.arrive:.2f} {self.name}: Arrived in the supermarket')\n",
    "        self.process = env.process(self.run())\n",
    "\n",
    "    def run(self):\n",
    "        env = self.env\n",
    "        counters = self.model.counters\n",
    "        model = self.model\n",
    "        choice, queue_length = self.choose(counters, method=self.choose_method)\n",
    "        line_tolerance = ss.poisson(LINE_TOLERANCE).rvs()\n",
    "\n",
    "        if queue_length > line_tolerance:  # lines are too long\n",
    "            logging.debug(\n",
    "                f'{env.now:.2f} {self.name}: left_long_line after {self.wait:.3f}')\n",
    "            model.waiting_times.append({'time': env.now,\n",
    "                                        'wait': 0,\n",
    "                                        'total_time': -1,\n",
    "                                        'type': 'long line'})  # -1 means left because of long lines\n",
    "            model.counter_queues.append(\n",
    "                {i: count_customers(counters[i]) for i in range(len(counters))})\n",
    "\n",
    "        with counters[choice].request() as req:\n",
    "            # Wait for the counters or abort at the end of our tether\n",
    "            results = yield req\n",
    "\n",
    "            wait = self.wait\n",
    "\n",
    "            # We got to the counters\n",
    "            logging.debug(f'{env.now:.2f} {self.name}: Waited {wait:.3f}')\n",
    "\n",
    "            # poisson process has exponential inter-arrival times\n",
    "            serve_time = random.expovariate(1.0 / AVG_SERVE_TIME)\n",
    "            yield env.timeout(serve_time)\n",
    "            logging.debug(f'{env.now:.2f} {self.name}: Finished')\n",
    "            model.waiting_times.append({'time': env.now,\n",
    "                                        'wait': wait,\n",
    "                                        'total_time': wait+serve_time,\n",
    "                                        'type': 'served'})\n",
    "            model.counter_queues.append(\n",
    "                {i: count_customers(counters[i]) for i in range(len(counters))})\n",
    "\n",
    "\n",
    "    def choose(self, counters, method):\n",
    "        queue_lengths = [count_customers(counters[i])\n",
    "                         for i in range(len(counters))]\n",
    "        if method == 'shortest':\n",
    "            for choice_idx in range(len(queue_lengths)):\n",
    "                queue_length = queue_lengths[choice_idx]\n",
    "                if queue_length == 0 or queue_length == min(queue_lengths):\n",
    "                    break  # choose choice_idx\n",
    "\n",
    "        if method == 'random':\n",
    "            choice_idx = random.choice(range(len(queue_lengths)))\n",
    "            queue_length = queue_lengths[choice_idx]\n",
    "\n",
    "        return choice_idx, queue_length\n",
    "\n",
    "    @property\n",
    "    def wait(self):\n",
    "        return self.env.now - self.arrive\n",
    "\n",
    "\n",
    "class QueueModel:\n",
    "    def __init__(self, num_counters, num_customers, interval_customers, seed=42):\n",
    "        # Setup and start the simulation\n",
    "        random.seed(seed)\n",
    "        self.env = simpy.Environment()\n",
    "        self.waiting_times = []\n",
    "        self.counter_queues = []\n",
    "        self.arrivals_times = []\n",
    "        # Start processes\n",
    "        self.counters = [simpy.Resource(self.env, capacity=service_capacity)\n",
    "                         for i in range(num_counters)]\n",
    "        self.env.process(self.customer_source(\n",
    "            num_customers, interval_customers))\n",
    "\n",
    "    def customer_source(self, number, interval):\n",
    "        \"\"\"Source generates customers randomly\"\"\"\n",
    "        model = self\n",
    "        for i in range(number):\n",
    "            c = Customer(self.env, f'Customer{i:02d}', model)\n",
    "            t = random.expovariate(1.0 / interval)\n",
    "\n",
    "            yield self.env.timeout(t)\n",
    "            model.arrivals_times.append({'time': self.env.now,\n",
    "                                         'count': i+1})\n",
    "\n",
    "    def simulate(self, time):\n",
    "        self.env.run(time)\n",
    "\n",
    "    def get_customers_served(self):\n",
    "        return sum([wait['total_time'] > 0 for wait in self.waiting_times])\n",
    "\n",
    "    def get_gross_margin(self):\n",
    "        return gross_margin_per_customer * self.get_customers_served()\n",
    "\n",
    "    def get_operating_costs(self):\n",
    "        return cost_per_counter * len(self.counters)\n",
    "\n",
    "    def get_total_profit(self):\n",
    "        return self.get_gross_margin() - self.get_operating_costs()\n",
    "\n",
    "\n",
    "model = QueueModel(num_counters, NUM_CUSTOMERS, INTERVAL_CUSTOMERS)\n",
    "model.simulate(SIM_TIME)\n"
   ]
  },
  {
   "cell_type": "code",
   "execution_count": 2,
   "metadata": {},
   "outputs": [],
   "source": [
    "import pandas as pd\n",
    "import numpy as np\n",
    "import matplotlib.pyplot as plt\n",
    "wait_df = pd.DataFrame(model.waiting_times)\n",
    "counter_df = pd.DataFrame(model.counter_queues)\n",
    "arrival_df = pd.DataFrame(model.arrivals_times)"
   ]
  },
  {
   "cell_type": "code",
   "execution_count": 3,
   "metadata": {},
   "outputs": [
    {
     "data": {
      "text/plain": [
       "<AxesSubplot:xlabel='time'>"
      ]
     },
     "execution_count": 3,
     "metadata": {},
     "output_type": "execute_result"
    },
    {
     "data": {
      "image/png": "[encoded data removed]",
      "text/plain": [
       "<Figure size 432x288 with 1 Axes>"
      ]
     },
     "metadata": {
      "needs_background": "light"
     },
     "output_type": "display_data"
    }
   ],
   "source": [
    "fig, ax = plt.subplots(1)\n",
    "\n",
    "for key, group in wait_df.groupby('type'):\n",
    "    group['count'] = np.cumsum(np.ones(len(group)))\n",
    "    group.plot(x='time', y='count', ax=ax, label=key)\n",
    "arrival_df.plot(x='time', y='count', ax=ax, label='arrived') # arrived"
   ]
  },
  {
   "cell_type": "code",
   "execution_count": 4,
   "metadata": {},
   "outputs": [
    {
     "data": {
      "text/plain": [
       "(1270, 1500, 702, 500)"
      ]
     },
     "execution_count": 4,
     "metadata": {},
     "output_type": "execute_result"
    }
   ],
   "source": [
    "model.get_total_profit(), model.get_operating_costs(), len(model.waiting_times), len(model.arrivals_times)"
   ]
  },
  {
   "cell_type": "markdown",
   "metadata": {},
   "source": [
    "## Testing the model"
   ]
  },
  {
   "cell_type": "code",
   "execution_count": 5,
   "metadata": {},
   "outputs": [
    {
     "data": {
      "text/plain": [
       "<AxesSubplot:xlabel='counters'>"
      ]
     },
     "execution_count": 5,
     "metadata": {},
     "output_type": "execute_result"
    },
    {
     "data": {
      "image/png": "[encoded data removed]",
      "text/plain": [
       "<Figure size 432x288 with 1 Axes>"
      ]
     },
     "metadata": {
      "needs_background": "light"
     },
     "output_type": "display_data"
    }
   ],
   "source": [
    "results = []\n",
    "for num_counters in range(1,20):\n",
    "    model = QueueModel(num_counters, NUM_CUSTOMERS, INTERVAL_CUSTOMERS)\n",
    "    model.simulate(SIM_TIME)\n",
    "    results.append({'counters': num_counters,\n",
    "                    'profit': model.get_total_profit()})\n",
    "    \n",
    "df = pd.DataFrame(results)\n",
    "df.plot(x='counters', y='profit', kind='bar')"
   ]
  },
  {
   "cell_type": "markdown",
   "metadata": {},
   "source": [
    "Running the model over various number of counters, we find that 9 counters yields the most optimal profit. This example is not limited to supermarket counters, but can be used as a starting point for agent-based models of more complex systems."
   ]
  },
  {
   "cell_type": "markdown",
   "metadata": {},
   "source": [
    "## References\n",
    "\n",
    "1. https://simpy.readthedocs.io/en/latest/examples/bank_renege.html\n",
    "2. https://towardsdatascience.com/intro-to-agent-based-modeling-3eea6a070b72\n",
    "3. https://medium.com/swlh/simulating-a-parallel-queueing-system-with-simpy-6b7fcb6b1ca1\n",
    "4. Gabriel Gomes (2022) A framework for hybrid simulation of transportation networks, Journal of Simulation, 16:2, 166-181, DOI: 10.1080/17477778.2020.1766387"
   ]
  }
 ],
 "metadata": {
  "interpreter": {
   "hash": "87b026d9bd5f4b64a54679b496ef569feb7730c53cfff5b93d30181e74da8470"
  },
  "kernelspec": {
   "display_name": "Python 3.10.4 ('abm')",
   "language": "python",
   "name": "python3"
  },
  "language_info": {
   "codemirror_mode": {
    "name": "ipython",
    "version": 3
   },
   "file_extension": ".py",
   "mimetype": "text/x-python",
   "name": "python",
   "nbconvert_exporter": "python",
   "pygments_lexer": "ipython3",
   "version": "3.10.4"
  }
 },
 "nbformat": 4,
 "nbformat_minor": 2
}
