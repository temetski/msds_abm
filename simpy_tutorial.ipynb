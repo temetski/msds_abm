{
 "cells": [
  {
   "cell_type": "markdown",
   "id": "5272e016",
   "metadata": {},
   "source": [
    "# SimPy in <10 minutes\n",
    "\n",
    "SimPy is a discrete-event simulation library. The behavior of active components (like vehicles, customers or messages) is modeled with **processes**. All processes live in an **environment**. They interact with the environment and with each other via **events**.\n",
    "\n",
    "Processes are described by simple Python generators. During their lifetime, they create events and **yield** them in order to wait for them to be triggered.\n",
    "\n",
    "When a process yields an event, the process gets suspended. SimPy resumes the process when the event occurs (we say that the event is triggered). Multiple processes can wait for the same event. SimPy resumes them in the same order in which they yielded that event.\n",
    "\n",
    "An important event type is the `Timeout`. Events of this type are triggered after a certain amount of (simulated) time has passed. They allow a process to sleep (or hold its state) for the given time. A `Timeout` and all other events can be created by calling the appropriate method of the `Environment` that the process lives in (`Environment.timeout()` for example)."
   ]
  },
  {
   "cell_type": "markdown",
   "id": "603dfb83",
   "metadata": {},
   "source": [
    "## First process\n",
    "\n",
    "For our first process, let us consider a simple model of a supermarket (or any establishment for that matter). Customers will arrive at a supermarket and transact after some waiting. Once done, they will leave the supermarket.\n",
    "This example was modified from the [Bank Renege](https://simpy.readthedocs.io/en/latest/examples/bank_renege.html) example of SimPy"
   ]
  },
  {
   "cell_type": "code",
   "execution_count": 4,
   "id": "ed7e7876",
   "metadata": {},
   "outputs": [],
   "source": [
    "def customer(env):\n",
    "    while True:\n",
    "        print('Arrived at %d' % env.now)\n",
    "        wait_duration = 5\n",
    "        yield env.timeout(wait_duration)\n",
    "\n",
    "        print('Begin transaction at %d' % env.now)\n",
    "        transact_duration = 20\n",
    "        yield env.timeout(transact_duration)\n",
    "\n",
    "        print('Left at %d' % env.now)\n",
    "        leave_duration = 5\n",
    "        yield env.timeout(leave_duration)"
   ]
  },
  {
   "cell_type": "markdown",
   "id": "6379ac80",
   "metadata": {},
   "source": [
    "Our *customer* process requires a reference to an `Environment` (env) in order to create new events. The customer’s behavior is described in an infinite loop. Remember, this function is a generator. Though it will never terminate, it will pass the control flow back to the simulation once a `yield` statement is reached. Once the yielded event is triggered (“it occurs”), the simulation will resume the function at this statement.\n",
    "\n",
    "The *customer* repeatedly goes to and leaves the bank to perform a transaction. It announces its new state by printing a message and the current simulation time (as returned by the `Environment.now` property). It then calls the `Environment.timeout()` factory function to create a `Timeout` event. This event describes the point in time the customer arrived, left, or begins transacting. By yielding the event, it signals the simulation that it wants to wait for the event to occur.\n",
    "\n",
    "Now that the behavior of our customer has been modeled, lets create an instance of it and see how it behaves:"
   ]
  },
  {
   "cell_type": "code",
   "execution_count": 5,
   "id": "e337a112",
   "metadata": {},
   "outputs": [
    {
     "name": "stdout",
     "output_type": "stream",
     "text": [
      "Arrived at 0\n",
      "Begin transaction at 5\n",
      "Left at 25\n",
      "Arrived at 30\n",
      "Begin transaction at 35\n",
      "Left at 55\n"
     ]
    }
   ],
   "source": [
    "import simpy\n",
    "\n",
    "env = simpy.Environment()\n",
    "env.process(customer(env))\n",
    "env.run(60)"
   ]
  },
  {
   "cell_type": "markdown",
   "id": "0f39b49c",
   "metadata": {},
   "source": [
    "The first thing we need to do is to create an instance of `Environment`. This instance is passed into our *customer* process function. Calling it creates a process generator that needs to be started and added to the environment via `Environment.process()`."
   ]
  },
  {
   "cell_type": "markdown",
   "id": "f0c75867",
   "metadata": {},
   "source": [
    "## Resources\n",
    "\n",
    "SimPy offers three types of resources that help you modeling problems, where multiple processes want to use a resource of limited capacity (e.g., customers at a supermarket with a limited number of checkout counters) or classical producer-consumer problems.\n",
    "\n",
    "In this section, we’ll briefly introduce SimPy’s `Resource` class.\n",
    "\n",
    "### Basic Resource Usage\n",
    "\n",
    "We’ll slightly modify our customer process that we introduced in the last sections.\n",
    "\n",
    "The customer will request to use a counter to be served. If the counter is currently in use, it waits in line until it becomes available again. Once it has paid (and is done at the counter), the customer leaves."
   ]
  },
  {
   "cell_type": "code",
   "execution_count": 8,
   "id": "41f4ca76",
   "metadata": {},
   "outputs": [],
   "source": [
    "def car(env, counter, name):\n",
    "    # Simulate driving to the BCS\n",
    "    print(f'{name} Arrived at {env.now}')\n",
    "    wait_duration = 5\n",
    "    yield env.timeout(wait_duration)\n",
    "    \n",
    "    \n",
    "    print(f'{name} Line up at {env.now}')\n",
    "    with counter.request() as req:\n",
    "        ## wait in line\n",
    "        yield req\n",
    "        \n",
    "        transact_duration = 20\n",
    "        yield env.timeout(transact_duration)\n",
    "\n",
    "        print(f'{name} Left at {env.now}')\n",
    "        leave_duration = 5\n",
    "        yield env.timeout(leave_duration)\n",
    "        "
   ]
  },
  {
   "cell_type": "markdown",
   "id": "2d120603",
   "metadata": {},
   "source": [
    "The resource’s `request()` method generates an event that lets you wait until the resource becomes available again. If you are resumed, you “own” the resource until you release it.\n",
    "\n",
    "If you use the resource with the with statement as shown above, the resource is automatically being released. If you call `request()` without with, you are responsible to call `release()` once you are done using the resource.\n",
    "\n",
    "When you release a resource, the next waiting process is resumed and now “owns” one of the resource’s slots. The basic Resource sorts waiting processes in a *FIFO* (first in—first out) way.\n",
    "\n",
    "A resource needs a reference to an `Environment` and a *capacity* when it is created:"
   ]
  },
  {
   "cell_type": "code",
   "execution_count": 9,
   "id": "6765dc01",
   "metadata": {},
   "outputs": [
    {
     "name": "stdout",
     "output_type": "stream",
     "text": [
      "Car0 Arrived at 0\n",
      "Car1 Arrived at 0\n",
      "Car2 Arrived at 0\n",
      "Car3 Arrived at 0\n",
      "Car0 Begin transaction at 5\n",
      "Car1 Begin transaction at 5\n",
      "Car2 Begin transaction at 5\n",
      "Car3 Begin transaction at 5\n",
      "Car0 Left at 25\n",
      "Car1 Left at 50\n",
      "Car2 Left at 75\n",
      "Car3 Left at 100\n"
     ]
    }
   ],
   "source": [
    "import simpy\n",
    "env = simpy.Environment()\n",
    "counter = simpy.Resource(env, capacity=1)\n",
    "\n",
    "for i in range(4):\n",
    "    env.process(car(env, counter, f'Car{i:d}'))\n",
    "env.run()"
   ]
  }
 ],
 "metadata": {
  "kernelspec": {
   "display_name": "Python [conda env:abm]",
   "language": "python",
   "name": "conda-env-abm-py"
  },
  "language_info": {
   "codemirror_mode": {
    "name": "ipython",
    "version": 3
   },
   "file_extension": ".py",
   "mimetype": "text/x-python",
   "name": "python",
   "nbconvert_exporter": "python",
   "pygments_lexer": "ipython3",
   "version": "3.10.4"
  }
 },
 "nbformat": 4,
 "nbformat_minor": 5
}
